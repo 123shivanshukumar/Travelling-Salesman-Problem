{
 "cells": [
  {
   "cell_type": "code",
   "execution_count": 2,
   "metadata": {},
   "outputs": [],
   "source": [
    "import numpy as np\n",
    "import matplotlib.pyplot as plt\n",
    "import random\n",
    "import time"
   ]
  },
  {
   "cell_type": "code",
   "execution_count": 3,
   "metadata": {},
   "outputs": [],
   "source": [
    "with open('tsp40.txt') as f:\n",
    "    lines = f.readlines()\n",
    "num = int(lines[0])\n",
    "pt_lst = []\n",
    "for i in range(num):\n",
    "    values = lines[i+1].split()\n",
    "    vec = np.array([float(values[0]),float(values[1])])\n",
    "    pt_lst.append(vec)"
   ]
  },
  {
   "cell_type": "code",
   "execution_count": 4,
   "metadata": {},
   "outputs": [],
   "source": [
    "#to compute distance b/w two points \n",
    "def distance(vec1 , vec2): #O(1)\n",
    "    return (sum((vec1-vec2)**2))**0.5\n",
    "#list of vectors \n",
    "def travelDistance(path_lst): #O(n)\n",
    "    dist = 0\n",
    "    for i in range(len(path_lst) -1): dist+= distance(path_lst[i+1], path_lst[i])\n",
    "    dist+= distance(path_lst[len(path_lst) -1],path_lst[0])\n",
    "    return dist"
   ]
  },
  {
   "cell_type": "code",
   "execution_count": 5,
   "metadata": {},
   "outputs": [],
   "source": [
    "city_by_order = pt_lst"
   ]
  },
  {
   "cell_type": "code",
   "execution_count": 6,
   "metadata": {},
   "outputs": [],
   "source": [
    "def probability(de, s,T):\n",
    "    return np.exp(-s*de/T)"
   ]
  },
  {
   "cell_type": "code",
   "execution_count": 7,
   "metadata": {},
   "outputs": [
    {
     "name": "stdout",
     "output_type": "stream",
     "text": [
      "20.526567224728712\n"
     ]
    }
   ],
   "source": [
    "print(travelDistance(city_by_order))\n",
    "path_len0 = travelDistance(city_by_order)"
   ]
  },
  {
   "cell_type": "code",
   "execution_count": 8,
   "metadata": {},
   "outputs": [],
   "source": [
    "lst = []\n",
    "time_lst  = []"
   ]
  },
  {
   "cell_type": "code",
   "execution_count": 9,
   "metadata": {},
   "outputs": [],
   "source": [
    "for i in range(1,100):\n",
    "    tic = time.process_time()\n",
    "    pt_lst_variable = city_by_order.copy()\n",
    "    min = path_len0 #initialise min with the intial\n",
    "    min_iter = 0\n",
    "    iters = 0\n",
    "    num = len(city_by_order)\n",
    "\n",
    "    #initial parameters\n",
    "    T = 10000\n",
    "    s = 100\n",
    "    gamma =  0.999\n",
    "\n",
    "    while(T>1):\n",
    "        #keep generating random numbers till two defferent number are found\n",
    "\n",
    "        num1, num2 = random.randrange(num),random.randrange(num)\n",
    "        while(num2==num1):\n",
    "            num2 = random.randrange(num)\n",
    "        \n",
    "        #swap the two cities\n",
    "        pt_lst_variable[num1], pt_lst_variable[num2] = pt_lst_variable[num2], pt_lst_variable[num1]\n",
    "        \n",
    "        \n",
    "        path_len1 = travelDistance(pt_lst_variable)\n",
    "\n",
    "        if(path_len1<=path_len0):   # if new path len is better update it, and retain the change in order of cities\n",
    "            path_len0 = path_len1\n",
    "        else:\n",
    "            n = random.random()\n",
    "            prob = probability(path_len1-path_len0, s,T)\n",
    "            if(n <= prob):\n",
    "                # with this probability accept this swap \n",
    "                path_len0 = path_len1\n",
    "            else:\n",
    "                # with this prob reject the swap and reswap to get the original order\n",
    "                pt_lst_variable[num1], pt_lst_variable[num2] = pt_lst_variable[num2], pt_lst_variable[num1]\n",
    "        \n",
    "        T = T*gamma\n",
    "        iters+=1\n",
    "                \n",
    "        #if the pathlen decreases update the min and correspoding iteration -- for plotting puropses\n",
    "        if(min>path_len0):\n",
    "            min = path_len0\n",
    "            min_iter = iters\n",
    "    lst.append(min)\n",
    "    toc = time.process_time()\n",
    "    time_lst.append(toc-tic)\n"
   ]
  },
  {
   "cell_type": "code",
   "execution_count": 10,
   "metadata": {},
   "outputs": [
    {
     "data": {
      "text/plain": [
       "0.39678030303030304"
      ]
     },
     "execution_count": 10,
     "metadata": {},
     "output_type": "execute_result"
    }
   ],
   "source": [
    "sum(time_lst)/len(time_lst)\n",
    "#0.39 sec and our takes less than 1 millisec"
   ]
  },
  {
   "cell_type": "code",
   "execution_count": null,
   "metadata": {},
   "outputs": [],
   "source": []
  }
 ],
 "metadata": {
  "kernelspec": {
   "display_name": "Python 3",
   "language": "python",
   "name": "python3"
  },
  "language_info": {
   "codemirror_mode": {
    "name": "ipython",
    "version": 3
   },
   "file_extension": ".py",
   "mimetype": "text/x-python",
   "name": "python",
   "nbconvert_exporter": "python",
   "pygments_lexer": "ipython3",
   "version": "3.10.11"
  }
 },
 "nbformat": 4,
 "nbformat_minor": 2
}
